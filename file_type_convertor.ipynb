{
 "cells": [
  {
   "cell_type": "markdown",
   "id": "134abc77",
   "metadata": {},
   "source": [
    "# converting a multple csv files to excels file"
   ]
  },
  {
   "cell_type": "code",
   "execution_count": 23,
   "id": "a9df2ee8",
   "metadata": {},
   "outputs": [
    {
     "name": "stdout",
     "output_type": "stream",
     "text": [
      "file_out.csv\n",
      "file_out2.csv\n"
     ]
    }
   ],
   "source": [
    "#importing the neccesary module\n",
    "\n",
    "import os\n",
    "import pandas as pd\n",
    "#bellow is the path to the location where the csv's are located\n",
    "\n",
    "path='C:/Users/kelvin/Desktop/retailer'\n",
    "\n",
    "#this few lines of code fetches for  csv files and sisplays them\n",
    "\n",
    "files=[file for file in os.listdir(path)]\n",
    "for file in files:\n",
    "    if \".csv\" in file:\n",
    "        print(file)"
   ]
  },
  {
   "cell_type": "markdown",
   "id": "38eeda7e",
   "metadata": {},
   "source": [
    "# Bellow lines of code performs the actual conversion"
   ]
  },
  {
   "cell_type": "code",
   "execution_count": 30,
   "id": "8c40c451",
   "metadata": {},
   "outputs": [],
   "source": [
    "\n",
    "#1: first we have to loop through the list of files\n",
    "#2: filter for .csv files\n",
    "#3. split the file names at . and save the new file name to a diffrent name\n",
    "#4. add .xlsx extension to the new file name\n",
    "#5.read the csv files using pandas \n",
    "#6. save the file you have read as excel\n",
    "\n",
    "for file in files:\n",
    "    if \".csv\" in file:\n",
    "        file_name=file.split(\".\")[0]+\".xlsx\"\n",
    "        df=pd.read_csv(file)\n",
    "        df.to_excel(file_name,index=False)"
   ]
  },
  {
   "cell_type": "markdown",
   "id": "5f283a85",
   "metadata": {},
   "source": [
    "# checking whether the new excel files were created"
   ]
  },
  {
   "cell_type": "code",
   "execution_count": 36,
   "id": "b1bf9f8a",
   "metadata": {},
   "outputs": [
    {
     "name": "stdout",
     "output_type": "stream",
     "text": [
      ".ipynb_checkpoints\n",
      "file_out.csv\n",
      "file_out.xlsx\n",
      "file_out2.csv\n",
      "file_out2.xlsx\n",
      "file_type_convertor.ipynb\n"
     ]
    }
   ],
   "source": [
    "path='C:/Users/kelvin/Desktop/retailer'\n",
    "files=[file for file in os.listdir(path)]\n",
    "for file in files:\n",
    "    print(file)"
   ]
  },
  {
   "cell_type": "markdown",
   "id": "b0d507d4",
   "metadata": {},
   "source": [
    "# Two excel files were created from the  two csv files int the retailer directory"
   ]
  }
 ],
 "metadata": {
  "kernelspec": {
   "display_name": "Python 3 (ipykernel)",
   "language": "python",
   "name": "python3"
  },
  "language_info": {
   "codemirror_mode": {
    "name": "ipython",
    "version": 3
   },
   "file_extension": ".py",
   "mimetype": "text/x-python",
   "name": "python",
   "nbconvert_exporter": "python",
   "pygments_lexer": "ipython3",
   "version": "3.11.0"
  }
 },
 "nbformat": 4,
 "nbformat_minor": 5
}
